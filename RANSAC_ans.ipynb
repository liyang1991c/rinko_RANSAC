{
 "cells": [
  {
   "cell_type": "markdown",
   "metadata": {},
   "source": [
    "# Hands-on Lecture 1\n",
    "## Implementation of RANSAC\n",
    "- In this notebook, you will implement RANSAC (RANdom SAmple Consensus), an algorithm to calculate an affine transformation which is robust to outliers.\n",
    "\n",
    "- The input and output in RANSAC is as follows:\n",
    "\n",
    "**Input**:\n",
    "$$\n",
    "D = \\{(\\boldsymbol{x}_1, \\boldsymbol{x}'_1), \\cdots ,(\\boldsymbol{x}_N, \\boldsymbol{x}'_N) \\}\n",
    "$$\n",
    "\n",
    "**Output**:\n",
    "$$\n",
    "H = \\begin{pmatrix}\n",
    "A & \\boldsymbol{t} \\\\\n",
    "\\boldsymbol{0} & 1\\\\\n",
    "\\end{pmatrix}\n",
    "$$\n",
    "\n",
    "- Let's break down the algorithm of RANSAC into several pieces and implement each of them."
   ]
  },
  {
   "cell_type": "markdown",
   "metadata": {},
   "source": [
    "### 0. Import necessary libraries"
   ]
  },
  {
   "cell_type": "code",
   "execution_count": 1,
   "metadata": {},
   "outputs": [],
   "source": [
    "import numpy as np\n",
    "import matplotlib.pyplot as plt"
   ]
  },
  {
   "cell_type": "code",
   "execution_count": 2,
   "metadata": {},
   "outputs": [],
   "source": [
    "np.random.seed(0)"
   ]
  },
  {
   "cell_type": "markdown",
   "metadata": {},
   "source": [
    "### 1. Select 3 samples randomly\n",
    "- First of all, you will implement the function which selects 3 samples randomly.\n",
    "- You can use **```np.random.choice```** function to obtain random samples"
   ]
  },
  {
   "cell_type": "code",
   "execution_count": 3,
   "metadata": {},
   "outputs": [],
   "source": [
    "def select_three_samples(points_list):\n",
    "    \"\"\"\n",
    "    Select 3 samples from points_list.\n",
    "    \n",
    "    Parameters\n",
    "    ----------\n",
    "    points_list: numpy array of feature pairs D = {(x_i, x'_i)}_{i=1}^N\n",
    "    \n",
    "    returns\n",
    "    -------\n",
    "    consensus_list: 3 samples randomly chosen from point_list\n",
    "    points_list_temp: all the feature pairs other than the samples in consensus_list\n",
    "    \"\"\"\n",
    "    points_list_temp = np.copy(points_list).tolist()\n",
    "    consensus_list = []\n",
    "\n",
    "    #### START HERE ####\n",
    "    for _ in range(3):\n",
    "        selected_sample = np.random.choice(points_list_temp)\n",
    "        consensus_list.append(selected_sample)\n",
    "        points_list_temp.remove(temp)\n",
    "    #### END HERE ####\n",
    "    \n",
    "    return consensus_list, points_list_temp"
   ]
  },
  {
   "cell_type": "code",
   "execution_count": 4,
   "metadata": {},
   "outputs": [],
   "source": [
    "# test\n",
    "# To Yang-san: please implement this."
   ]
  },
  {
   "cell_type": "markdown",
   "metadata": {},
   "source": [
    "### 2. Calculate affine transformation from these 3 samples\n",
    "- Now you have collected 3 samples from ```points_list```.\n",
    "- Let's calculate affine transformation $H$"
   ]
  },
  {
   "cell_type": "code",
   "execution_count": 5,
   "metadata": {},
   "outputs": [],
   "source": [
    "def affine_from_points(consensus_list):\n",
    "    \"\"\"\n",
    "    Calculate affine transformation matrix H from consensus_list.\n",
    "    \n",
    "    Parameters\n",
    "    ----------\n",
    "    consensus_list: 3 samples chosen randomly.\n",
    "    \n",
    "    Returns\n",
    "    -------\n",
    "    \n",
    "    \"\"\"\n",
    "    \n",
    "    # devide consensus_list\n",
    "    fp = [coordinate[0] for coordinate in consensus_list]\n",
    "    tp = [coordinate[1] for coordinate in consensus_list]\n",
    "    assert fp.shape == tp.shape\n",
    "    \n",
    "    return H"
   ]
  },
  {
   "cell_type": "markdown",
   "metadata": {},
   "source": [
    "### 3. Select points which do not contradict the affine transformation\n",
    "- Given the thereshold parameter $\\theta$, you have to examine if the distance of each sample which is calculated as\n",
    "$$d({\\boldsymbol x}', H{\\boldsymbol x}) = \\sqrt{(\\boldsymbol{x}' - H\\boldsymbol{x})^T(\\boldsymbol{x}' - H\\boldsymbol{x})}$$\n",
    "is within $\\theta$ or not\n",
    "- You can use **```np.hypot```** function to calculate the l2 distance."
   ]
  },
  {
   "cell_type": "code",
   "execution_count": null,
   "metadata": {},
   "outputs": [],
   "source": [
    "def select_samples_within_threshold(points_list_temp, consensus_list,\\\n",
    "                                    H, theta=10):\n",
    "    \"\"\"\n",
    "    \n",
    "    \"\"\"\n",
    "    "
   ]
  },
  {
   "cell_type": "markdown",
   "metadata": {},
   "source": [
    "### 4. Recalculate affine transformation matrix using the samples collected in section 3"
   ]
  },
  {
   "cell_type": "code",
   "execution_count": null,
   "metadata": {},
   "outputs": [],
   "source": []
  },
  {
   "cell_type": "markdown",
   "metadata": {},
   "source": [
    "## References\n",
    "- https://github.com/vishwa91/pyimreg\n",
    "- http://www.cs.ubc.ca/~lowe/keypoints/"
   ]
  }
 ],
 "metadata": {
  "kernelspec": {
   "display_name": "Python 3",
   "language": "python",
   "name": "python3"
  },
  "language_info": {
   "codemirror_mode": {
    "name": "ipython",
    "version": 3
   },
   "file_extension": ".py",
   "mimetype": "text/x-python",
   "name": "python",
   "nbconvert_exporter": "python",
   "pygments_lexer": "ipython3",
   "version": "3.6.4"
  }
 },
 "nbformat": 4,
 "nbformat_minor": 2
}
